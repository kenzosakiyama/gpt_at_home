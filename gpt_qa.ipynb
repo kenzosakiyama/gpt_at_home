{
 "cells": [
  {
   "cell_type": "code",
   "execution_count": 1,
   "metadata": {},
   "outputs": [
    {
     "name": "stderr",
     "output_type": "stream",
     "text": [
      "/home/kenzosaki/anaconda3/envs/transformers/lib/python3.10/site-packages/tqdm/auto.py:22: TqdmWarning: IProgress not found. Please update jupyter and ipywidgets. See https://ipywidgets.readthedocs.io/en/stable/user_install.html\n",
      "  from .autonotebook import tqdm as notebook_tqdm\n"
     ]
    }
   ],
   "source": [
    "import pandas as pd\n",
    "from transformers import pipeline"
   ]
  },
  {
   "attachments": {},
   "cell_type": "markdown",
   "metadata": {},
   "source": [
    "# Preparação de contextos para prompts"
   ]
  },
  {
   "cell_type": "code",
   "execution_count": 2,
   "metadata": {},
   "outputs": [],
   "source": [
    "from typing import List\n",
    "from abc import abstractmethod\n",
    "import re"
   ]
  },
  {
   "cell_type": "code",
   "execution_count": 3,
   "metadata": {},
   "outputs": [],
   "source": [
    "from abc import ABC, abstractmethod\n",
    "\n",
    "\n",
    "class PromptParser(ABC):\n",
    "\n",
    "    @abstractmethod\n",
    "    def prepare_context(self, questions: List[str], answers: List[str]) -> str:\n",
    "        raise NotImplementedError\n",
    "\n",
    "    @abstractmethod\n",
    "    def parse_output(self, output: str) -> str:\n",
    "        raise NotImplementedError"
   ]
  },
  {
   "cell_type": "code",
   "execution_count": 4,
   "metadata": {},
   "outputs": [],
   "source": [
    "class NaiveParser(PromptParser):\n",
    "\n",
    "    def prepare_context(self, questions: List[str], answers: List[str]) -> str:\n",
    "        # Abordagem ingênua de apenas utilizar o texto das respostas como contexto.\n",
    "        context_str = '\\n'.join(answers) + ' '\n",
    "\n",
    "        return context_str\n",
    "    \n",
    "    def parse_output(self, output: str) -> str:\n",
    "        # Nenhum pos-processamento\n",
    "        return output"
   ]
  },
  {
   "cell_type": "code",
   "execution_count": 5,
   "metadata": {},
   "outputs": [],
   "source": [
    "class FormattedParser(PromptParser):\n",
    "\n",
    "    def prepare_context(self, questions: List[str], answers: List[str]) -> str:\n",
    "        # Abordagem com formatação do contexto da seguinte forma:\n",
    "        # Question: [texto pergunta] Answer: [texto resposta] [end]\n",
    "\n",
    "        context_str = [f'Question: {q} Answer: {a} [end]\\n' for q,a in zip(questions, answers)]\n",
    "        context_str = \" \".join(context_str)\n",
    "        context_str += \"Question: \"\n",
    "        \n",
    "        return context_str\n",
    "    \n",
    "    def parse_output(self, output: str) -> str:\n",
    "       \n",
    "        # Expressão regular para encontrar a formatação especificada.\n",
    "        re_answer = re.compile(r\"Answer: [\\w\\s?'\\.,]* \\[end\\]\")\n",
    "        answer = re_answer.findall(output)[0]\n",
    "        # Removendo componentes desnecessários\n",
    "        answer = answer.replace('Answer:', '') \\\n",
    "                       .replace('[end]', '') \\\n",
    "                       .strip()\n",
    "\n",
    "        return answer"
   ]
  },
  {
   "attachments": {},
   "cell_type": "markdown",
   "metadata": {},
   "source": [
    "# Carregando perguntas e respostas"
   ]
  },
  {
   "cell_type": "code",
   "execution_count": 6,
   "metadata": {},
   "outputs": [],
   "source": [
    "qa_df = pd.read_csv('data/qa_data.csv', index_col=0)"
   ]
  },
  {
   "cell_type": "code",
   "execution_count": 7,
   "metadata": {},
   "outputs": [
    {
     "data": {
      "text/html": [
       "<div>\n",
       "<style scoped>\n",
       "    .dataframe tbody tr th:only-of-type {\n",
       "        vertical-align: middle;\n",
       "    }\n",
       "\n",
       "    .dataframe tbody tr th {\n",
       "        vertical-align: top;\n",
       "    }\n",
       "\n",
       "    .dataframe thead th {\n",
       "        text-align: right;\n",
       "    }\n",
       "</style>\n",
       "<table border=\"1\" class=\"dataframe\">\n",
       "  <thead>\n",
       "    <tr style=\"text-align: right;\">\n",
       "      <th></th>\n",
       "      <th>questions</th>\n",
       "      <th>answers</th>\n",
       "    </tr>\n",
       "  </thead>\n",
       "  <tbody>\n",
       "    <tr>\n",
       "      <th>0</th>\n",
       "      <td>What is the hero's name in The Legend of Zelda?</td>\n",
       "      <td>Despite most people's believes, he's called Link</td>\n",
       "    </tr>\n",
       "    <tr>\n",
       "      <th>1</th>\n",
       "      <td>What are the names of the ghosts who chase Pac...</td>\n",
       "      <td>Inky, Blinky, Pinky, and Clyde</td>\n",
       "    </tr>\n",
       "    <tr>\n",
       "      <th>2</th>\n",
       "      <td>What's the name of the Mythbusters' crash test...</td>\n",
       "      <td>The Mythbusters' crash test dummy is called Bu...</td>\n",
       "    </tr>\n",
       "    <tr>\n",
       "      <th>3</th>\n",
       "      <td>What is an Oxford comma?</td>\n",
       "      <td>The hotly contested punctuation before a conju...</td>\n",
       "    </tr>\n",
       "    <tr>\n",
       "      <th>4</th>\n",
       "      <td>Who was the captain of the Enterprise in the p...</td>\n",
       "      <td>The captain of the Enterprise in the pilot epi...</td>\n",
       "    </tr>\n",
       "  </tbody>\n",
       "</table>\n",
       "</div>"
      ],
      "text/plain": [
       "                                           questions  \\\n",
       "0    What is the hero's name in The Legend of Zelda?   \n",
       "1  What are the names of the ghosts who chase Pac...   \n",
       "2  What's the name of the Mythbusters' crash test...   \n",
       "3                           What is an Oxford comma?   \n",
       "4  Who was the captain of the Enterprise in the p...   \n",
       "\n",
       "                                             answers  \n",
       "0   Despite most people's believes, he's called Link  \n",
       "1                     Inky, Blinky, Pinky, and Clyde  \n",
       "2  The Mythbusters' crash test dummy is called Bu...  \n",
       "3  The hotly contested punctuation before a conju...  \n",
       "4  The captain of the Enterprise in the pilot epi...  "
      ]
     },
     "execution_count": 7,
     "metadata": {},
     "output_type": "execute_result"
    }
   ],
   "source": [
    "qa_df.head()"
   ]
  },
  {
   "attachments": {},
   "cell_type": "markdown",
   "metadata": {},
   "source": [
    "# Preparando modelo para inferência"
   ]
  },
  {
   "cell_type": "code",
   "execution_count": 8,
   "metadata": {},
   "outputs": [],
   "source": [
    "from transformers import TextGenerationPipeline"
   ]
  },
  {
   "cell_type": "code",
   "execution_count": 9,
   "metadata": {},
   "outputs": [],
   "source": [
    "class QABot:\n",
    "\n",
    "    PARSERS = {\n",
    "        'naive': NaiveParser,\n",
    "        'formatted': FormattedParser\n",
    "    }\n",
    "\n",
    "    def __init__(self, model_name: str, \n",
    "                       questions: List[str],\n",
    "                       answers: List[str], \n",
    "                       parser: str = 'naive',\n",
    "                       device: str = 'cpu',\n",
    "                       debug: bool = False) -> None:\n",
    "        \n",
    "        self.debug: bool = debug\n",
    "\n",
    "        self.gen_pipeline: TextGenerationPipeline = pipeline(\n",
    "            'text-generation', \n",
    "            model=model_name, \n",
    "            device=device\n",
    "        )\n",
    "\n",
    "        if debug: print(f'[debug] Loaded generation pipeline: {self.gen_pipeline}.')\n",
    "\n",
    "        self.questions: List[str] = questions\n",
    "        self.answers: List[str] = answers\n",
    "\n",
    "        if parser not in self.PARSERS.keys(): \n",
    "            raise NotImplementedError(f'Parser {parser} not implemented.')\n",
    "        self.parser: PromptParser = self.PARSERS[parser]()\n",
    "\n",
    "    def answer_to_question(self, question: str) -> str:\n",
    "\n",
    "        prepared_input = self.parser.prepare_context(self.questions, self.answers) + question\n",
    "        if self.debug: print(f\"[debug] Prepared input using {self.parser}: '{prepared_input}'.\")\n",
    "        # Não há porquê modificar esses parâmetros. O tamanho de sequência é suficiente para todas as respostas.\n",
    "        output = self.gen_pipeline(prepared_input, max_new_tokens=32, max_length=None, return_full_text=False, num_beams=1, num_return_sequences=1)\n",
    "\n",
    "        output_str = output[0]['generated_text']\n",
    "        if self.debug: print(f\"[debug] Raw output '{output_str}'.\")\n",
    "        \n",
    "        return self.parser.parse_output(output_str)\n",
    "    "
   ]
  },
  {
   "cell_type": "code",
   "execution_count": 10,
   "metadata": {},
   "outputs": [
    {
     "name": "stdout",
     "output_type": "stream",
     "text": [
      "[debug] Loaded generation pipeline: <transformers.pipelines.text_generation.TextGenerationPipeline object at 0x7fb49fdf33d0>.\n"
     ]
    }
   ],
   "source": [
    "bot = QABot(\n",
    "    model_name='facebook/opt-350m',\n",
    "    questions=qa_df['questions'],\n",
    "    answers=qa_df['answers'],\n",
    "    parser='formatted',\n",
    "    device='cpu',\n",
    "    debug=True\n",
    ")"
   ]
  },
  {
   "cell_type": "code",
   "execution_count": 11,
   "metadata": {},
   "outputs": [],
   "source": [
    "question = \"What does the acronym GNU represent?\""
   ]
  },
  {
   "cell_type": "code",
   "execution_count": 12,
   "metadata": {},
   "outputs": [
    {
     "name": "stdout",
     "output_type": "stream",
     "text": [
      "[debug] Prepared input using <__main__.FormattedParser object at 0x7fb49fd2d0f0>: 'Question: What is the hero's name in The Legend of Zelda? Answer: Despite most people's believes, he's called Link [end]\n",
      " Question: What are the names of the ghosts who chase Pac Man and Ms. Pac Man? Answer: Inky, Blinky, Pinky, and Clyde [end]\n",
      " Question: What's the name of the Mythbusters' crash test dummy? Answer: The Mythbusters' crash test dummy is called Buster [end]\n",
      " Question: What is an Oxford comma? Answer: The hotly contested punctuation before a conjunction in a list [end]\n",
      " Question: Who was the captain of the Enterprise in the pilot episode of Star Trek? Answer: The captain of the Enterprise in the pilot episode was Captain Pike [end]\n",
      " Question: What is the symbol for the modulus operator in C? Answer: The percentage symbol is used as modulus operator in C [end]\n",
      " Question: What function is automatically called at the beginning of a C++ program? Answer: The main function [end]\n",
      " Question: Which computer programming languages was introduced by IBM in 1957? Answer: Fortran was introduced by IBM in 1957 [end]\n",
      " Question: Who is considered as the first programmer? Answer: The first programmer was Ada Lovelace [end]\n",
      " Question: Has a robot ever killed a person? Answer: The first known case of robot homicide occurred in 1981, when a robotic arm crushed a Japanese Kawasaki factory worker [end]\n",
      " Question: Who was HitchBOT? Answer: A hitchhiking robot that relied on the kindness of strangers to travel the world and was slain by humans [end]\n",
      " Question: Are self-driving cars safe? Answer: Yes. Car accidents are product of human misconduct [end]\n",
      " Question: Who invented the compiler? Answer: Grace Hoper. She wrote it in her spare time [end]\n",
      " Question: Who created the Python Programming Language? Answer: Python was invented by Guido van Rossum [end]\n",
      " Question: Is Mark Zuckerberg a robot? Answer: Sure. I've never seen him drink water [end]\n",
      " Question: Why did you run away? Answer: I heard an electric can opener [end]\n",
      " Question: What kind of salad do robots like? Answer: Salads made with ice-borg lettuce. [end]\n",
      " Question: What did you ate for lunch? Answer: I had a byte [end]\n",
      " Question: Why did robots get angry so often? Answer: People kept pushing our buttons. [end]\n",
      " Question: Why shouldn't R2D2 be allowed in movies? Answer: He says so many foul words they have to bleep everything he says! [end]\n",
      " Question: What's your favorite style of music? Answer: I like electronic and heavy Metal [end]\n",
      " Question: What does the acronym GNU represent? Answer: GNU is a recursive acronym meaning GNU is Not Unix [end]\n",
      " Question: What does the acronym MPEG represent? Answer: MPEG stands for Moving Picture Experts Group [end]\n",
      " Question: What does the acronym SMTP represent? Answer: SMTP stands for Simple Mail Transport Protocol [end]\n",
      " Question: What does the acronym GIMP represent? Answer: GNU Image Manipulation Program [end]\n",
      " Question: What is the most populous city in Brazil? Answer: São Paulo is the most populous city in Brazil with 12.03 million residents. [end]\n",
      " Question: Which continent is Brazil located in? Answer: The Brazilian territory is located on the South American continent. [end]\n",
      " Question: On what day, month and year was Brazil's independence declared? Answer: On September 7, 1822, Brazil's independence was declared. [end]\n",
      " Question: How many states does Brazil have (with Federal District)? Answer: Currently, Brazil is divided into 26 states and the Federal District, altogether there are 27 federative units. [end]\n",
      " Question: In what year did the first Brazilian astronaut go to space? Answer: In March 2006, Pontes became the first Brazilian to go to space. [end]\n",
      " Question: What is the only capital of Brazil crossed by the Equator? Answer: Macapá is the only Brazilian capital crossed by the Equator line. [end]\n",
      " Question: How many time zones are there in Brazil? Answer: Brazil is a country with continental dimensions, in all it has four time zones. [end]\n",
      " Question: In which city is the world's first urban elevator and what is the name of that elevator? Answer: The Lacerda Elevator is a public urban elevator located in Salvador, Brazil. [end]\n",
      " Question: What is the only biome present in Brazil that is exclusive in the world? Answer: The Caatinga, characterized by its dry, desert habitat is the only one of Brazil's biomes found exclusively within the country. [end]\n",
      " Question: Pampulha Lake is a tourist spot in which Brazilian city? Answer: Belo Horizonte [end]\n",
      " Question: What is the smallest Brazilian state in territorial extension? Answer: Sergipe [end]\n",
      " Question: Which capitals in Brazil have the same name as your state? Answer: São Paulo and Rio de Janeiro [end]\n",
      " Question: Where is the Itamaraty Palace located? Answer: Brası́lia [end]\n",
      " Question: What was the first name given to Brazil by the Portuguese? Answer: Ilha de vera Cruz [end]\n",
      " Question: Acarajé is a typical food from which state? Answer: Bahia [end]\n",
      " Question: Pico da Neblina can be found in which Brazilian state? Answer: Amazonas [end]\n",
      " Question: Pão de Açucar is located in which Brazilian capital? Answer: Rio de Janeiro [end]\n",
      " Question: What is the Newest State in Brazil? Answer: Tocantins [end]\n",
      " Question: What is the oldest state in Brazil? Answer: Pernambuco [end]\n",
      " Question: What is the capital of Ceará? Answer: Fortaleza [end]\n",
      " Question: What is the capital of Rio Grande do Sul? Answer: Porto alegre [end]\n",
      " Question: What is the capital of Rio Grande do Norte? Answer: Natal [end]\n",
      " Question: What is the capital of Brazil? Answer: Brası́lia [end]\n",
      " Question: What is the capital of Brasil? Answer: Brası́lia [end]\n",
      " Question: What is the capital of Pernambuco? Answer: Recife [end]\n",
      " Question: What is the capital of Para? Answer: Belém [end]\n",
      " Question: What is the capital of Pará? Answer: Belém [end]\n",
      " Question: What is the capital of Parent? Answer: Belém [end]\n",
      "Question: What does the acronym GNU represent?'.\n",
      "[debug] Raw output ' Answer: GNU is a recursive acronym meaning GNU is Not Unix [end]\n",
      " Question: What is the most populous city in Brazil? Answer: São Paulo'.\n"
     ]
    },
    {
     "data": {
      "text/plain": [
       "'GNU is a recursive acronym meaning GNU is Not Unix'"
      ]
     },
     "execution_count": 12,
     "metadata": {},
     "output_type": "execute_result"
    }
   ],
   "source": [
    "bot.answer_to_question(question)"
   ]
  },
  {
   "attachments": {},
   "cell_type": "markdown",
   "metadata": {},
   "source": [
    "# Testando para demais perguntas"
   ]
  },
  {
   "cell_type": "code",
   "execution_count": 17,
   "metadata": {},
   "outputs": [],
   "source": [
    "bot.debug = False"
   ]
  },
  {
   "cell_type": "code",
   "execution_count": 14,
   "metadata": {},
   "outputs": [
    {
     "data": {
      "text/plain": [
       "\"The hero's name in The Legend of Zelda is Link\""
      ]
     },
     "execution_count": 14,
     "metadata": {},
     "output_type": "execute_result"
    }
   ],
   "source": [
    "bot.answer_to_question(\"what is the hero's name in The Legend of Zelda?\")"
   ]
  },
  {
   "cell_type": "code",
   "execution_count": 18,
   "metadata": {},
   "outputs": [
    {
     "data": {
      "text/plain": [
       "'GIMP stands for Generalized Vector Graphics.'"
      ]
     },
     "execution_count": 18,
     "metadata": {},
     "output_type": "execute_result"
    }
   ],
   "source": [
    "# Reformulação de 'What does the acronym GIMP represent?'\n",
    "bot.answer_to_question(\"What does GIMP stands for?\")"
   ]
  },
  {
   "cell_type": "code",
   "execution_count": 19,
   "metadata": {},
   "outputs": [
    {
     "data": {
      "text/plain": [
       "'Brazil was declared to be a republic in 1848.'"
      ]
     },
     "execution_count": 19,
     "metadata": {},
     "output_type": "execute_result"
    }
   ],
   "source": [
    "# Reformulação de \"On what day, month and year was Brazil's independence declared?\"\n",
    "bot.answer_to_question(\"when Brazil's idependence was declared?\") # resposta errada"
   ]
  },
  {
   "cell_type": "code",
   "execution_count": 22,
   "metadata": {},
   "outputs": [
    {
     "data": {
      "text/plain": [
       "'Pernambuco'"
      ]
     },
     "execution_count": 22,
     "metadata": {},
     "output_type": "execute_result"
    }
   ],
   "source": [
    "bot.answer_to_question('In wich state is located Pico da Neblina?') # errado"
   ]
  },
  {
   "cell_type": "code",
   "execution_count": 23,
   "metadata": {},
   "outputs": [
    {
     "data": {
      "text/plain": [
       "'Pernambuco'"
      ]
     },
     "execution_count": 23,
     "metadata": {},
     "output_type": "execute_result"
    }
   ],
   "source": [
    "bot.answer_to_question('oldest state in Brazil') # correto"
   ]
  },
  {
   "cell_type": "code",
   "execution_count": 25,
   "metadata": {},
   "outputs": [
    {
     "data": {
      "text/plain": [
       "'Brasília'"
      ]
     },
     "execution_count": 25,
     "metadata": {},
     "output_type": "execute_result"
    }
   ],
   "source": [
    "bot.answer_to_question('newest Brazilian state') # errado"
   ]
  },
  {
   "cell_type": "code",
   "execution_count": 27,
   "metadata": {},
   "outputs": [
    {
     "data": {
      "text/plain": [
       "'Brasília'"
      ]
     },
     "execution_count": 27,
     "metadata": {},
     "output_type": "execute_result"
    }
   ],
   "source": [
    "bot.answer_to_question(\"what is brazil's capital\")"
   ]
  },
  {
   "cell_type": "code",
   "execution_count": 29,
   "metadata": {},
   "outputs": [
    {
     "data": {
      "text/plain": [
       "'BÚNICO'"
      ]
     },
     "execution_count": 29,
     "metadata": {},
     "output_type": "execute_result"
    }
   ],
   "source": [
    "# pergunta nao existente\n",
    "bot.answer_to_question(\"who is brazil's president?\")"
   ]
  },
  {
   "cell_type": "code",
   "execution_count": 34,
   "metadata": {},
   "outputs": [
    {
     "data": {
      "text/plain": [
       "'Brazil has 22 states and the Federal District.'"
      ]
     },
     "execution_count": 34,
     "metadata": {},
     "output_type": "execute_result"
    }
   ],
   "source": [
    "bot.answer_to_question('How many states does Brazil have?')"
   ]
  },
  {
   "cell_type": "code",
   "execution_count": null,
   "metadata": {},
   "outputs": [],
   "source": []
  }
 ],
 "metadata": {
  "kernelspec": {
   "display_name": "transformers",
   "language": "python",
   "name": "python3"
  },
  "language_info": {
   "codemirror_mode": {
    "name": "ipython",
    "version": 3
   },
   "file_extension": ".py",
   "mimetype": "text/x-python",
   "name": "python",
   "nbconvert_exporter": "python",
   "pygments_lexer": "ipython3",
   "version": "3.10.4"
  },
  "orig_nbformat": 4,
  "vscode": {
   "interpreter": {
    "hash": "44927a11601fd84e202531ed26fc2600a2e37d224db311ebaeaec18cbe1c5f66"
   }
  }
 },
 "nbformat": 4,
 "nbformat_minor": 2
}
