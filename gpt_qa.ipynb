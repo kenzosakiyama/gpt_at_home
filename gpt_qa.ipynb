{
 "cells": [
  {
   "cell_type": "code",
   "execution_count": 1,
   "metadata": {},
   "outputs": [
    {
     "name": "stderr",
     "output_type": "stream",
     "text": [
      "/home/kenzosaki/anaconda3/envs/transformers/lib/python3.10/site-packages/tqdm/auto.py:22: TqdmWarning: IProgress not found. Please update jupyter and ipywidgets. See https://ipywidgets.readthedocs.io/en/stable/user_install.html\n",
      "  from .autonotebook import tqdm as notebook_tqdm\n"
     ]
    }
   ],
   "source": [
    "import pandas as pd\n",
    "from transformers import pipeline"
   ]
  },
  {
   "attachments": {},
   "cell_type": "markdown",
   "metadata": {},
   "source": [
    "# Preparação de contextos para prompts"
   ]
  },
  {
   "cell_type": "code",
   "execution_count": 5,
   "metadata": {},
   "outputs": [],
   "source": [
    "from typing import List\n",
    "from abc import abstractmethod"
   ]
  },
  {
   "cell_type": "code",
   "execution_count": 6,
   "metadata": {},
   "outputs": [],
   "source": [
    "from abc import ABC, abstractmethod\n",
    "\n",
    "\n",
    "class PromptParser(ABC):\n",
    "\n",
    "    @abstractmethod\n",
    "    def prepare_context(self, questions: List[str], answers: List[str]) -> str:\n",
    "        raise NotImplementedError\n",
    "\n",
    "    @abstractmethod\n",
    "    def parse_output(self, output: str) -> str:\n",
    "        raise NotImplementedError"
   ]
  },
  {
   "cell_type": "code",
   "execution_count": 14,
   "metadata": {},
   "outputs": [],
   "source": [
    "class NaiveParser(PromptParser):\n",
    "\n",
    "    def prepare_context(self, questions: List[str], answers: List[str]) -> str:\n",
    "        # Abordagem ingênua de apenas utilizar o texto das respostas como contexto.\n",
    "        context_str = '\\n'.join(answers) + ' '\n",
    "\n",
    "        return context_str\n",
    "    \n",
    "    def parse_output(self, output: str) -> str:\n",
    "        # Nenhum pos-processamento\n",
    "        return output"
   ]
  },
  {
   "cell_type": "code",
   "execution_count": 25,
   "metadata": {},
   "outputs": [],
   "source": [
    "class FormattedParser(PromptParser):\n",
    "\n",
    "    def prepare_context(self, questions: List[str], answers: List[str]) -> str:\n",
    "        # Abordagem com formatação do contexto da seguinte forma:\n",
    "        # Question: [texto pergunta] Answer: [texto resposta]\n",
    "\n",
    "        context_str = [f'Question: {q} Answer: {a}\\n' for q,a in zip(questions, answers)]\n",
    "        context_str = \" \".join(context_str)\n",
    "        context_str += \"Question: \"\n",
    "        \n",
    "        return \" \".join(context_str)\n",
    "    \n",
    "    def parse_output(self, output: str) -> str:\n",
    "        # Nenhum pos-processamento\n",
    "        return output"
   ]
  },
  {
   "attachments": {},
   "cell_type": "markdown",
   "metadata": {},
   "source": [
    "# Carregando perguntas e respostas"
   ]
  },
  {
   "cell_type": "code",
   "execution_count": 18,
   "metadata": {},
   "outputs": [],
   "source": [
    "qa_df = pd.read_csv('data/qa_data.csv', index_col=0)"
   ]
  },
  {
   "cell_type": "code",
   "execution_count": 20,
   "metadata": {},
   "outputs": [
    {
     "data": {
      "text/html": [
       "<div>\n",
       "<style scoped>\n",
       "    .dataframe tbody tr th:only-of-type {\n",
       "        vertical-align: middle;\n",
       "    }\n",
       "\n",
       "    .dataframe tbody tr th {\n",
       "        vertical-align: top;\n",
       "    }\n",
       "\n",
       "    .dataframe thead th {\n",
       "        text-align: right;\n",
       "    }\n",
       "</style>\n",
       "<table border=\"1\" class=\"dataframe\">\n",
       "  <thead>\n",
       "    <tr style=\"text-align: right;\">\n",
       "      <th></th>\n",
       "      <th>questions</th>\n",
       "      <th>answers</th>\n",
       "    </tr>\n",
       "  </thead>\n",
       "  <tbody>\n",
       "    <tr>\n",
       "      <th>0</th>\n",
       "      <td>What is the hero's name in The Legend of Zelda?</td>\n",
       "      <td>Despite most people's believes, he's called Link</td>\n",
       "    </tr>\n",
       "    <tr>\n",
       "      <th>1</th>\n",
       "      <td>What are the names of the ghosts who chase Pac...</td>\n",
       "      <td>Inky, Blinky, Pinky, and Clyde</td>\n",
       "    </tr>\n",
       "    <tr>\n",
       "      <th>2</th>\n",
       "      <td>What's the name of the Mythbusters' crash test...</td>\n",
       "      <td>The Mythbusters' crash test dummy is called Bu...</td>\n",
       "    </tr>\n",
       "    <tr>\n",
       "      <th>3</th>\n",
       "      <td>What is an Oxford comma?</td>\n",
       "      <td>The hotly contested punctuation before a conju...</td>\n",
       "    </tr>\n",
       "    <tr>\n",
       "      <th>4</th>\n",
       "      <td>Who was the captain of the Enterprise in the p...</td>\n",
       "      <td>The captain of the Enterprise in the pilot epi...</td>\n",
       "    </tr>\n",
       "  </tbody>\n",
       "</table>\n",
       "</div>"
      ],
      "text/plain": [
       "                                           questions  \\\n",
       "0    What is the hero's name in The Legend of Zelda?   \n",
       "1  What are the names of the ghosts who chase Pac...   \n",
       "2  What's the name of the Mythbusters' crash test...   \n",
       "3                           What is an Oxford comma?   \n",
       "4  Who was the captain of the Enterprise in the p...   \n",
       "\n",
       "                                             answers  \n",
       "0   Despite most people's believes, he's called Link  \n",
       "1                     Inky, Blinky, Pinky, and Clyde  \n",
       "2  The Mythbusters' crash test dummy is called Bu...  \n",
       "3  The hotly contested punctuation before a conju...  \n",
       "4  The captain of the Enterprise in the pilot epi...  "
      ]
     },
     "execution_count": 20,
     "metadata": {},
     "output_type": "execute_result"
    }
   ],
   "source": [
    "qa_df.head()"
   ]
  },
  {
   "attachments": {},
   "cell_type": "markdown",
   "metadata": {},
   "source": [
    "# Preparando modelo para inferência"
   ]
  },
  {
   "cell_type": "code",
   "execution_count": 12,
   "metadata": {},
   "outputs": [],
   "source": [
    "qa_pipeline = pipeline('text-generation', model='facebook/opt-350m', device='cpu')"
   ]
  },
  {
   "cell_type": "code",
   "execution_count": 15,
   "metadata": {},
   "outputs": [],
   "source": [
    "parser = NaiveParser()"
   ]
  },
  {
   "cell_type": "code",
   "execution_count": 16,
   "metadata": {},
   "outputs": [],
   "source": [
    "question = \"What does the acronym GNU represent?\""
   ]
  },
  {
   "cell_type": "code",
   "execution_count": 22,
   "metadata": {},
   "outputs": [
    {
     "data": {
      "text/plain": [
       "\"Despite most people's believes, he's called Link\\nInky, Blinky, Pinky, and Clyde\\nThe Mythbusters' crash test dummy is called Buster\\nThe hotly contested punctuation before a conjunction in a list\\nThe captain of the Enterprise in the pilot episode was Captain Pike\\nThe percentage symbol is used as modulus operator in C\\nThe main function\\nFortran was introduced by IBM in 1957\\nThe first programmer was Ada Lovelace\\nThe first known case of robot homicide occurred in 1981, when a robotic arm crushed a Japanese Kawasaki factory worker\\nA hitchhiking robot that relied on the kindness of strangers to travel the world and was slain by humans\\nYes. Car accidents are product of human misconduct\\nGrace Hoper. She wrote it in her spare time\\nPython was invented by Guido van Rossum\\nSure. I've never seen him drink water\\nI heard an electric can opener\\nSalads made with ice-borg lettuce.\\nI had a byte\\nPeople kept pushing our buttons.\\nHe says so many foul words they have to bleep everything he says!\\nI like electronic and heavy Metal\\nGNU is a recursive acronym meaning GNU is Not Unix\\nMPEG stands for Moving Picture Experts Group\\nSMTP stands for Simple Mail Transport Protocol\\nGNU Image Manipulation Program\\nSão Paulo is the most populous city in Brazil with 12.03 million residents.\\nThe Brazilian territory is located on the South American continent.\\nOn September 7, 1822, Brazil's independence was declared.\\nCurrently, Brazil is divided into 26 states and the Federal District, altogether there are 27 federative units.\\nIn March 2006, Pontes became the first Brazilian to go to space.\\nMacapá is the only Brazilian capital crossed by the Equator line.\\nBrazil is a country with continental dimensions, in all it has four time zones.\\nThe Lacerda Elevator is a public urban elevator located in Salvador, Brazil.\\nThe Caatinga, characterized by its dry, desert habitat is the only one of Brazil's biomes found exclusively within the country.\\nBelo Horizonte\\nSergipe\\nSão Paulo and Rio de Janeiro\\nBrası́lia\\nIlha de vera Cruz\\nBahia\\nAmazonas\\nRio de Janeiro\\nTocantins\\nPernambuco\\nFortaleza\\nPorto alegre\\nNatal\\nBrası́lia\\nBrası́lia\\nRecife\\nBelém\\nBelém\\nBelém What does the acronym GNU represent?\""
      ]
     },
     "execution_count": 22,
     "metadata": {},
     "output_type": "execute_result"
    }
   ],
   "source": [
    "prepared_input = parser.prepare_context(qa_df['questions'], qa_df['answers']) + question\n",
    "prepared_input"
   ]
  },
  {
   "cell_type": "code",
   "execution_count": 34,
   "metadata": {},
   "outputs": [],
   "source": [
    "output = qa_pipeline(prepared_input, max_new_tokens=32, max_length=None, return_full_text=False, num_beams=1, num_return_sequences=1)"
   ]
  },
  {
   "cell_type": "code",
   "execution_count": 35,
   "metadata": {},
   "outputs": [
    {
     "data": {
      "text/plain": [
       "[{'generated_text': '\\nGNU is a recursive acronym meaning GNU is Not Unix\\nMPEG stands for Moving Picture Experts Group\\nSMTP stands for Simple Mail Transport Protocol\\nGN'}]"
      ]
     },
     "execution_count": 35,
     "metadata": {},
     "output_type": "execute_result"
    }
   ],
   "source": [
    "output"
   ]
  },
  {
   "cell_type": "code",
   "execution_count": null,
   "metadata": {},
   "outputs": [],
   "source": []
  }
 ],
 "metadata": {
  "kernelspec": {
   "display_name": "transformers",
   "language": "python",
   "name": "python3"
  },
  "language_info": {
   "codemirror_mode": {
    "name": "ipython",
    "version": 3
   },
   "file_extension": ".py",
   "mimetype": "text/x-python",
   "name": "python",
   "nbconvert_exporter": "python",
   "pygments_lexer": "ipython3",
   "version": "3.10.4"
  },
  "orig_nbformat": 4,
  "vscode": {
   "interpreter": {
    "hash": "44927a11601fd84e202531ed26fc2600a2e37d224db311ebaeaec18cbe1c5f66"
   }
  }
 },
 "nbformat": 4,
 "nbformat_minor": 2
}
