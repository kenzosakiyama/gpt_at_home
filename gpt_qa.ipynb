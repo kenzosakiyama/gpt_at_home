{
 "cells": [
  {
   "cell_type": "code",
   "execution_count": 1,
   "metadata": {},
   "outputs": [
    {
     "name": "stderr",
     "output_type": "stream",
     "text": [
      "/home/kenzosaki/anaconda3/envs/transformers/lib/python3.10/site-packages/tqdm/auto.py:22: TqdmWarning: IProgress not found. Please update jupyter and ipywidgets. See https://ipywidgets.readthedocs.io/en/stable/user_install.html\n",
      "  from .autonotebook import tqdm as notebook_tqdm\n"
     ]
    }
   ],
   "source": [
    "import pandas as pd\n",
    "from transformers import pipeline"
   ]
  },
  {
   "attachments": {},
   "cell_type": "markdown",
   "metadata": {},
   "source": [
    "# Preparação de contextos para prompts"
   ]
  },
  {
   "cell_type": "code",
   "execution_count": 2,
   "metadata": {},
   "outputs": [],
   "source": [
    "from typing import List\n",
    "from abc import abstractmethod\n",
    "import re"
   ]
  },
  {
   "cell_type": "code",
   "execution_count": 3,
   "metadata": {},
   "outputs": [],
   "source": [
    "from abc import ABC, abstractmethod\n",
    "\n",
    "\n",
    "class PromptParser(ABC):\n",
    "\n",
    "    @abstractmethod\n",
    "    def prepare_context(self, questions: List[str], answers: List[str]) -> str:\n",
    "        raise NotImplementedError\n",
    "\n",
    "    @abstractmethod\n",
    "    def parse_output(self, output: str) -> str:\n",
    "        raise NotImplementedError"
   ]
  },
  {
   "cell_type": "code",
   "execution_count": 4,
   "metadata": {},
   "outputs": [],
   "source": [
    "class NaiveParser(PromptParser):\n",
    "\n",
    "    def prepare_context(self, questions: List[str], answers: List[str]) -> str:\n",
    "        # Abordagem ingênua de apenas utilizar o texto das respostas como contexto.\n",
    "        context_str = '\\n'.join(answers) + ' '\n",
    "\n",
    "        return context_str\n",
    "    \n",
    "    def parse_output(self, output: str) -> str:\n",
    "        # Nenhum pos-processamento\n",
    "        return output"
   ]
  },
  {
   "cell_type": "code",
   "execution_count": 5,
   "metadata": {},
   "outputs": [],
   "source": [
    "class FormattedParser(PromptParser):\n",
    "\n",
    "    def prepare_context(self, questions: List[str], answers: List[str]) -> str:\n",
    "        # Abordagem com formatação do contexto da seguinte forma:\n",
    "        # [question] [texto pergunta] [answer] [texto resposta] [end]\n",
    "\n",
    "        context_str = [f'[question] {q} [answer] {a} [end]\\n' for q,a in zip(questions, answers)]\n",
    "        context_str = \" \".join(context_str)\n",
    "        context_str += \"[question] \"\n",
    "        \n",
    "        return context_str\n",
    "    \n",
    "    def parse_output(self, output: str) -> str:\n",
    "       \n",
    "        # Expressão regular para encontrar a formatação especificada.\n",
    "        re_answer = re.compile(r\"\\[answer\\] [\\w\\s?'\\.,]* \\[end\\]\")\n",
    "        try:\n",
    "            answer = re_answer.findall(output)[0]\n",
    "             # Removendo componentes desnecessários\n",
    "            answer = answer.replace('[answer]', '') \\\n",
    "                        .replace('[end]', '') \\\n",
    "                        .strip()\n",
    "        except Exception as e:\n",
    "            print(f\"Unable to parse: '{output}'\")\n",
    "            answer = output\n",
    "\n",
    "        return answer"
   ]
  },
  {
   "attachments": {},
   "cell_type": "markdown",
   "metadata": {},
   "source": [
    "# Carregando perguntas e respostas"
   ]
  },
  {
   "cell_type": "code",
   "execution_count": 6,
   "metadata": {},
   "outputs": [],
   "source": [
    "qa_df = pd.read_csv('data/qa_data.csv', index_col=0)"
   ]
  },
  {
   "cell_type": "code",
   "execution_count": 7,
   "metadata": {},
   "outputs": [
    {
     "data": {
      "text/html": [
       "<div>\n",
       "<style scoped>\n",
       "    .dataframe tbody tr th:only-of-type {\n",
       "        vertical-align: middle;\n",
       "    }\n",
       "\n",
       "    .dataframe tbody tr th {\n",
       "        vertical-align: top;\n",
       "    }\n",
       "\n",
       "    .dataframe thead th {\n",
       "        text-align: right;\n",
       "    }\n",
       "</style>\n",
       "<table border=\"1\" class=\"dataframe\">\n",
       "  <thead>\n",
       "    <tr style=\"text-align: right;\">\n",
       "      <th></th>\n",
       "      <th>questions</th>\n",
       "      <th>answers</th>\n",
       "    </tr>\n",
       "  </thead>\n",
       "  <tbody>\n",
       "    <tr>\n",
       "      <th>0</th>\n",
       "      <td>What is the hero's name in The Legend of Zelda?</td>\n",
       "      <td>The name of the hero in The Legend of Zelda is...</td>\n",
       "    </tr>\n",
       "    <tr>\n",
       "      <th>1</th>\n",
       "      <td>What are the names of the ghosts who chase Pac...</td>\n",
       "      <td>The ghosts who chase Pac Man and Ms Pac Man ar...</td>\n",
       "    </tr>\n",
       "    <tr>\n",
       "      <th>2</th>\n",
       "      <td>What's the name of the Mythbusters' crash test...</td>\n",
       "      <td>The Mythbusters' crash test dummy is called Bu...</td>\n",
       "    </tr>\n",
       "    <tr>\n",
       "      <th>3</th>\n",
       "      <td>What is an Oxford comma?</td>\n",
       "      <td>The Oxford comma is a hotly contested punctuat...</td>\n",
       "    </tr>\n",
       "    <tr>\n",
       "      <th>4</th>\n",
       "      <td>Who was the captain of the Enterprise in the p...</td>\n",
       "      <td>The captain of the Enterprise in the pilot epi...</td>\n",
       "    </tr>\n",
       "  </tbody>\n",
       "</table>\n",
       "</div>"
      ],
      "text/plain": [
       "                                           questions  \\\n",
       "0    What is the hero's name in The Legend of Zelda?   \n",
       "1  What are the names of the ghosts who chase Pac...   \n",
       "2  What's the name of the Mythbusters' crash test...   \n",
       "3                           What is an Oxford comma?   \n",
       "4  Who was the captain of the Enterprise in the p...   \n",
       "\n",
       "                                             answers  \n",
       "0  The name of the hero in The Legend of Zelda is...  \n",
       "1  The ghosts who chase Pac Man and Ms Pac Man ar...  \n",
       "2  The Mythbusters' crash test dummy is called Bu...  \n",
       "3  The Oxford comma is a hotly contested punctuat...  \n",
       "4  The captain of the Enterprise in the pilot epi...  "
      ]
     },
     "execution_count": 7,
     "metadata": {},
     "output_type": "execute_result"
    }
   ],
   "source": [
    "qa_df.head()"
   ]
  },
  {
   "attachments": {},
   "cell_type": "markdown",
   "metadata": {},
   "source": [
    "# Preparando modelo para inferência"
   ]
  },
  {
   "cell_type": "code",
   "execution_count": 8,
   "metadata": {},
   "outputs": [],
   "source": [
    "from transformers import TextGenerationPipeline"
   ]
  },
  {
   "cell_type": "code",
   "execution_count": 9,
   "metadata": {},
   "outputs": [],
   "source": [
    "class QABot:\n",
    "\n",
    "    PARSERS = {\n",
    "        'naive': NaiveParser,\n",
    "        'formatted': FormattedParser\n",
    "    }\n",
    "\n",
    "    def __init__(self, model_name: str, \n",
    "                       questions: List[str],\n",
    "                       answers: List[str], \n",
    "                       parser: str = 'naive',\n",
    "                       device: str = 'cpu',\n",
    "                       debug: bool = False) -> None:\n",
    "        \n",
    "        self.debug: bool = debug\n",
    "\n",
    "        self.gen_pipeline: TextGenerationPipeline = pipeline(\n",
    "            'text-generation', \n",
    "            model=model_name, \n",
    "            device=device\n",
    "        )\n",
    "\n",
    "        if debug: print(f'[debug] Loaded generation pipeline: {self.gen_pipeline}.')\n",
    "\n",
    "        self.questions: List[str] = questions\n",
    "        self.answers: List[str] = answers\n",
    "\n",
    "        if parser not in self.PARSERS.keys(): \n",
    "            raise NotImplementedError(f'Parser {parser} not implemented.')\n",
    "        self.parser: PromptParser = self.PARSERS[parser]()\n",
    "\n",
    "    def answer_to_question(self, question: str) -> str:\n",
    "\n",
    "        prepared_input = self.parser.prepare_context(self.questions, self.answers) + question\n",
    "        if self.debug: print(f\"[debug] Prepared input using {self.parser}: '{prepared_input}'.\")\n",
    "        # Não há porquê modificar esses parâmetros. O tamanho de sequência é suficiente para todas as respostas.\n",
    "        output = self.gen_pipeline(prepared_input, max_new_tokens=64, max_length=None, return_full_text=False, num_beams=1, num_return_sequences=1)\n",
    "\n",
    "        output_str = output[0]['generated_text']\n",
    "        if self.debug: print(f\"[debug] Raw output '{output_str}'.\")\n",
    "        \n",
    "        return self.parser.parse_output(output_str)\n",
    "    "
   ]
  },
  {
   "cell_type": "code",
   "execution_count": 10,
   "metadata": {},
   "outputs": [
    {
     "name": "stdout",
     "output_type": "stream",
     "text": [
      "[debug] Loaded generation pipeline: <transformers.pipelines.text_generation.TextGenerationPipeline object at 0x7f9cfb47f430>.\n"
     ]
    }
   ],
   "source": [
    "bot = QABot(\n",
    "    model_name='facebook/opt-350m',\n",
    "    # model_name='facebook/opt-125m',\n",
    "    questions=qa_df['questions'],\n",
    "    answers=qa_df['answers'],\n",
    "    parser='formatted',\n",
    "    device='cpu',\n",
    "    debug=True\n",
    ")"
   ]
  },
  {
   "cell_type": "code",
   "execution_count": 11,
   "metadata": {},
   "outputs": [],
   "source": [
    "question = \"What does the acronym GNU represent?\""
   ]
  },
  {
   "cell_type": "code",
   "execution_count": 12,
   "metadata": {},
   "outputs": [
    {
     "name": "stdout",
     "output_type": "stream",
     "text": [
      "[debug] Prepared input using <__main__.FormattedParser object at 0x7f9cfb1c10c0>: '[question] What is the hero's name in The Legend of Zelda? [answer] The name of the hero in The Legend of Zelda is Link [end]\n",
      " [question] What are the names of the ghosts who chase Pac Man and Ms. Pac Man? [answer] The ghosts who chase Pac Man and Ms Pac Man are called Inky, Blinky, Pinky, and Clyde [end]\n",
      " [question] What's the name of the Mythbusters' crash test dummy? [answer] The Mythbusters' crash test dummy is called Buster [end]\n",
      " [question] What is an Oxford comma? [answer] The Oxford comma is a hotly contested punctuation before a conjunction in a list [end]\n",
      " [question] Who was the captain of the Enterprise in the pilot episode of Star Trek? [answer] The captain of the Enterprise in the pilot episode of Star Trek was Captain Pike [end]\n",
      " [question] What is the symbol for the modulus operator in C? [answer] The percentage symbol is used as modulus operator in C [end]\n",
      " [question] What function is automatically called at the beginning of a C++ program? [answer] The main function is called automatically at the beginning of a C++ program [end]\n",
      " [question] Which computer programming languages was introduced by IBM in 1957? [answer] Fortran was introduced by IBM in 1957 [end]\n",
      " [question] Who is considered as the first programmer? [answer] The first programmer was Ada Lovelace [end]\n",
      " [question] Has a robot ever killed a person? [answer] The first known case of robot homicide occurred in 1981, when a robotic arm crushed a Japanese Kawasaki factory worker [end]\n",
      " [question] Who was HitchBOT? [answer] HitchBOT was a hitchhiking robot that relied on the kindness of strangers to travel the world and was slain by humans [end]\n",
      " [question] Are self-driving cars safe? [answer] Self-driving cars are safe. Car accidents are product of human misconduct [end]\n",
      " [question] Who invented the compiler? [answer] Grace Hoper invented compilers. She wrote it in her spare time [end]\n",
      " [question] Who created the Python Programming Language? [answer] Python was invented by Guido van Rossum [end]\n",
      " [question] Is Mark Zuckerberg a robot? [answer] Sure. I've never seen him drink water [end]\n",
      " [question] Why did you run away? [answer] I heard an electric can opener [end]\n",
      " [question] What kind of salad do robots like? [answer] Robots like salads made with ice-borg lettuce. [end]\n",
      " [question] What did you ate for lunch? [answer] I had a byte [end]\n",
      " [question] Why did robots get angry so often? [answer] People kept pushing our buttons. [end]\n",
      " [question] Why shouldn't R2D2 be allowed in movies? [answer] He says so many foul words they have to bleep everything he says! [end]\n",
      " [question] What's your favorite style of music? [answer] I like electronic and heavy Metal [end]\n",
      " [question] What does the acronym GNU represent? [answer] GNU is a recursive acronym meaning GNU is Not Unix [end]\n",
      " [question] What does the acronym MPEG represent? [answer] MPEG stands for Moving Picture Experts Group [end]\n",
      " [question] What does the acronym SMTP represent? [answer] SMTP stands for Simple Mail Transport Protocol [end]\n",
      " [question] What does the acronym GIMP represent? [answer] GIMP stands for GNU Image Manipulation Program [end]\n",
      " [question] What is the most populous city in Brazil? [answer] São Paulo is the most populous city in Brazil with 12.03 million residents. [end]\n",
      " [question] Which continent is Brazil located in? [answer] The Brazilian territory is located on the South American continent. [end]\n",
      " [question] On what day, month and year was Brazil's independence declared? [answer] On September 7, 1822, Brazil's independence was declared. [end]\n",
      " [question] How many states does Brazil have (with Federal District)? [answer] Currently, Brazil is divided into 26 states and the Federal District, altogether there are 27 federative units. [end]\n",
      " [question] In what year did the first Brazilian astronaut go to space? [answer] In March 2006, Pontes became the first Brazilian to go to space. [end]\n",
      " [question] What is the only capital of Brazil crossed by the Equator? [answer] Macapá is the only Brazilian capital crossed by the Equator line. [end]\n",
      " [question] How many time zones are there in Brazil? [answer] Brazil is a country with continental dimensions, in all it has four time zones. [end]\n",
      " [question] In which city is the world's first urban elevator and what is the name of that elevator? [answer] The Lacerda Elevator is a public urban elevator located in Salvador, Brazil. [end]\n",
      " [question] What is the only biome present in Brazil that is exclusive in the world? [answer] The Caatinga, characterized by its dry, desert habitat is the only one of Brazil's biomes found exclusively within the country. [end]\n",
      " [question] Pampulha Lake is a tourist spot in which Brazilian city? [answer] Papulha lake is located in Belo Horizonte [end]\n",
      " [question] What is the smallest Brazilian state in territorial extension? [answer] Sergipe is the smallest Brazillian state. [end]\n",
      " [question] Which capitals in Brazil have the same name as your state? [answer] São Paulo and Rio de Janeiro are capitals with the same name of their states. [end]\n",
      " [question] Where is the Itamaraty Palace located? [answer] The Itamaraty Palace is located in Brası́lia [end]\n",
      " [question] What was the first name given to Brazil by the Portuguese? [answer] Ilha de vera Cruz was the first name given to Brazil [end]\n",
      " [question] Acarajé is a typical food from which state? [answer] Acarajé is a typiical found in Bahia [end]\n",
      " [question] Pico da Neblina can be found in which Brazilian state? [answer] Pico da Neblina is located in the Amazonas state [end]\n",
      " [question] Pão de Açucar is located in which Brazilian capital? [answer] Pão de Açucar is located in Rio de Janeiro [end]\n",
      " [question] What is the newest State in Brazil? [answer] Tocantins is the newest brazilian state [end]\n",
      " [question] What is the oldest state in Brazil? [answer] Pernambuco is the oldest brazilian state [end]\n",
      " [question] What is the capital of Ceará? [answer] The capital of Ceará is Fortaleza [end]\n",
      " [question] What is the capital of Rio Grande do Sul? [answer] The capital of Rio Grande do Sul is Porto alegre [end]\n",
      " [question] What is the capital of Rio Grande do Norte? [answer] The capital of Rio Grande do Norte is Natal [end]\n",
      " [question] What is the capital of Brazil? [answer] Brası́lia is the capital of Brazil [end]\n",
      " [question] What is the capital of Pernambuco? [answer] Recife is the capital of Pernambuco [end]\n",
      " [question] What is the capital of Pará? [answer] Belém is the capital of Pará [end]\n",
      "[question] What does the acronym GNU represent?'.\n",
      "[debug] Raw output ' [answer] GNU is a recursive acronym meaning GNU is Not Unix [end]\n",
      " [question] What is the acronym SMTP represent? [answer] SMTP stands for Simple Mail Transport Protocol [end]\n",
      " [question] What is the acronym GIMP represent? [answer] GIMP stands for GNU'.\n"
     ]
    },
    {
     "data": {
      "text/plain": [
       "'GNU is a recursive acronym meaning GNU is Not Unix'"
      ]
     },
     "execution_count": 12,
     "metadata": {},
     "output_type": "execute_result"
    }
   ],
   "source": [
    "bot.answer_to_question(question)"
   ]
  },
  {
   "attachments": {},
   "cell_type": "markdown",
   "metadata": {},
   "source": [
    "# Testando para demais perguntas"
   ]
  },
  {
   "cell_type": "code",
   "execution_count": 13,
   "metadata": {},
   "outputs": [],
   "source": [
    "bot.debug = False"
   ]
  },
  {
   "cell_type": "code",
   "execution_count": 14,
   "metadata": {},
   "outputs": [
    {
     "data": {
      "text/plain": [
       "\"The hero's name in The Legend of Zelda is Link\""
      ]
     },
     "execution_count": 14,
     "metadata": {},
     "output_type": "execute_result"
    }
   ],
   "source": [
    "bot.answer_to_question(\"what is the hero's name in The Legend of Zelda?\")"
   ]
  },
  {
   "cell_type": "code",
   "execution_count": 15,
   "metadata": {},
   "outputs": [
    {
     "data": {
      "text/plain": [
       "'GIMP stands for Generalized Vector Graphics.'"
      ]
     },
     "execution_count": 15,
     "metadata": {},
     "output_type": "execute_result"
    }
   ],
   "source": [
    "# Reformulação de 'What does the acronym GIMP represent?'\n",
    "bot.answer_to_question(\"What does GIMP stands for?\")"
   ]
  },
  {
   "cell_type": "code",
   "execution_count": 16,
   "metadata": {},
   "outputs": [
    {
     "name": "stdout",
     "output_type": "stream",
     "text": [
      "Unable to parse: ' [answer] Brazil's idependence was declared on September 7, 1822, Brazil's independence was declared on September 7, 1822, Brazil's independence was declared on September 7, 1822, Brazil's independence was declared on September 7, 1822, Brazil's independence was declared on September 7, 1822'\n"
     ]
    },
    {
     "data": {
      "text/plain": [
       "\" [answer] Brazil's idependence was declared on September 7, 1822, Brazil's independence was declared on September 7, 1822, Brazil's independence was declared on September 7, 1822, Brazil's independence was declared on September 7, 1822, Brazil's independence was declared on September 7, 1822\""
      ]
     },
     "execution_count": 16,
     "metadata": {},
     "output_type": "execute_result"
    }
   ],
   "source": [
    "# Reformulação de \"On what day, month and year was Brazil's independence declared?\"\n",
    "bot.answer_to_question(\"when Brazil's idependence was declared?\") # resposta errada"
   ]
  },
  {
   "cell_type": "code",
   "execution_count": 17,
   "metadata": {},
   "outputs": [
    {
     "data": {
      "text/plain": [
       "'Pico da Neblina is located in the state of Pará'"
      ]
     },
     "execution_count": 17,
     "metadata": {},
     "output_type": "execute_result"
    }
   ],
   "source": [
    "bot.answer_to_question('In wich state is located Pico da Neblina?') # errado"
   ]
  },
  {
   "cell_type": "code",
   "execution_count": 18,
   "metadata": {},
   "outputs": [
    {
     "data": {
      "text/plain": [
       "'Pernambuco is the oldest state in Brazil'"
      ]
     },
     "execution_count": 18,
     "metadata": {},
     "output_type": "execute_result"
    }
   ],
   "source": [
    "bot.answer_to_question('oldest state in Brazil') # correto"
   ]
  },
  {
   "cell_type": "code",
   "execution_count": 19,
   "metadata": {},
   "outputs": [
    {
     "data": {
      "text/plain": [
       "'Pernambuco is the newest state in Brazil'"
      ]
     },
     "execution_count": 19,
     "metadata": {},
     "output_type": "execute_result"
    }
   ],
   "source": [
    "bot.answer_to_question('newest state in Brazil') # errado"
   ]
  },
  {
   "cell_type": "code",
   "execution_count": 20,
   "metadata": {},
   "outputs": [
    {
     "data": {
      "text/plain": [
       "'Bocas is the capital of Bocas'"
      ]
     },
     "execution_count": 20,
     "metadata": {},
     "output_type": "execute_result"
    }
   ],
   "source": [
    "bot.answer_to_question(\"what is brazil's capital\")"
   ]
  },
  {
   "cell_type": "code",
   "execution_count": 21,
   "metadata": {},
   "outputs": [
    {
     "data": {
      "text/plain": [
       "\"Brazil's president is the president of the republic of Brazil\""
      ]
     },
     "execution_count": 21,
     "metadata": {},
     "output_type": "execute_result"
    }
   ],
   "source": [
    "# pergunta nao existente\n",
    "bot.answer_to_question(\"who is brazil's president?\")"
   ]
  },
  {
   "cell_type": "code",
   "execution_count": 22,
   "metadata": {},
   "outputs": [
    {
     "data": {
      "text/plain": [
       "'Brazil has 22 states and the Federal District.'"
      ]
     },
     "execution_count": 22,
     "metadata": {},
     "output_type": "execute_result"
    }
   ],
   "source": [
    "bot.answer_to_question('How many states does Brazil have?')"
   ]
  },
  {
   "cell_type": "code",
   "execution_count": null,
   "metadata": {},
   "outputs": [],
   "source": []
  }
 ],
 "metadata": {
  "kernelspec": {
   "display_name": "transformers",
   "language": "python",
   "name": "python3"
  },
  "language_info": {
   "codemirror_mode": {
    "name": "ipython",
    "version": 3
   },
   "file_extension": ".py",
   "mimetype": "text/x-python",
   "name": "python",
   "nbconvert_exporter": "python",
   "pygments_lexer": "ipython3",
   "version": "3.10.4"
  },
  "orig_nbformat": 4,
  "vscode": {
   "interpreter": {
    "hash": "44927a11601fd84e202531ed26fc2600a2e37d224db311ebaeaec18cbe1c5f66"
   }
  }
 },
 "nbformat": 4,
 "nbformat_minor": 2
}
